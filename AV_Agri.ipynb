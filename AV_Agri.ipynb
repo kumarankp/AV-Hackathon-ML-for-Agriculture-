{
 "cells": [
  {
   "cell_type": "markdown",
   "metadata": {},
   "source": [
    "###  MACHINE LEARNING FOR AGRICULTURE HACKATHON - AnalyticsVidhya"
   ]
  },
  {
   "cell_type": "markdown",
   "metadata": {},
   "source": [
    "Rank : 54  [ Top 10 percentile]\n",
    "\n",
    "Accuracy : 84.83%"
   ]
  },
  {
   "cell_type": "markdown",
   "metadata": {},
   "source": [
    "AGENDA:  To classify the status of the crop based on the independent features are,\n",
    "    1. estimated insects count\n",
    "    2. Dosage per week\n",
    "    3. no of weeks used\n",
    "    4. no of weeks quit\n",
    "    5. soil type\n",
    "    6. crop type\n",
    "    7. pesticide use Category\n",
    "    8. Season\n",
    "Target Variable:\n",
    "    Crop damage - [0- Alive, 1- Damaged due to other causes , 2- Damaged due to pesticides]\n",
    "\n",
    "Problem type : Multi Class Classification problem\n",
    "    \n",
    "Imbalanced Data :  Resolved using SMOTE, made all the class to equal count.\n",
    "    \n",
    "Algorithm used : LightGBM Classifier\n",
    "\n",
    "metrics : Accuracy "
   ]
  },
  {
   "cell_type": "code",
   "execution_count": 1,
   "metadata": {},
   "outputs": [],
   "source": [
    "import pandas as pd\n",
    "from pandas import DataFrame, Series\n",
    "import numpy as np\n",
    "import matplotlib.pyplot as plt\n",
    "%matplotlib inline"
   ]
  },
  {
   "cell_type": "code",
   "execution_count": 2,
   "metadata": {},
   "outputs": [],
   "source": [
    "import os"
   ]
  },
  {
   "cell_type": "code",
   "execution_count": 3,
   "metadata": {},
   "outputs": [],
   "source": [
    "os.chdir(\"C:\\\\Users\\\\Soma\\\\Documents\\\\kumz\\\\analyticsvidhya\\\\agri\")"
   ]
  },
  {
   "cell_type": "code",
   "execution_count": 4,
   "metadata": {},
   "outputs": [],
   "source": [
    "dt_tr=pd.read_csv(\"train_yaOffsB.csv\")     ## train \n",
    "dt_ts=pd.read_csv(\"test_pFkWwen.csv\")      ## test"
   ]
  },
  {
   "cell_type": "code",
   "execution_count": 5,
   "metadata": {},
   "outputs": [
    {
     "data": {
      "text/html": [
       "<div>\n",
       "<style scoped>\n",
       "    .dataframe tbody tr th:only-of-type {\n",
       "        vertical-align: middle;\n",
       "    }\n",
       "\n",
       "    .dataframe tbody tr th {\n",
       "        vertical-align: top;\n",
       "    }\n",
       "\n",
       "    .dataframe thead th {\n",
       "        text-align: right;\n",
       "    }\n",
       "</style>\n",
       "<table border=\"1\" class=\"dataframe\">\n",
       "  <thead>\n",
       "    <tr style=\"text-align: right;\">\n",
       "      <th></th>\n",
       "      <th>ID</th>\n",
       "      <th>Estimated_Insects_Count</th>\n",
       "      <th>Crop_Type</th>\n",
       "      <th>Soil_Type</th>\n",
       "      <th>Pesticide_Use_Category</th>\n",
       "      <th>Number_Doses_Week</th>\n",
       "      <th>Number_Weeks_Used</th>\n",
       "      <th>Number_Weeks_Quit</th>\n",
       "      <th>Season</th>\n",
       "      <th>Crop_Damage</th>\n",
       "    </tr>\n",
       "  </thead>\n",
       "  <tbody>\n",
       "    <tr>\n",
       "      <th>0</th>\n",
       "      <td>F00000001</td>\n",
       "      <td>188</td>\n",
       "      <td>1</td>\n",
       "      <td>0</td>\n",
       "      <td>1</td>\n",
       "      <td>0</td>\n",
       "      <td>0.0</td>\n",
       "      <td>0</td>\n",
       "      <td>1</td>\n",
       "      <td>0</td>\n",
       "    </tr>\n",
       "    <tr>\n",
       "      <th>1</th>\n",
       "      <td>F00000003</td>\n",
       "      <td>209</td>\n",
       "      <td>1</td>\n",
       "      <td>0</td>\n",
       "      <td>1</td>\n",
       "      <td>0</td>\n",
       "      <td>0.0</td>\n",
       "      <td>0</td>\n",
       "      <td>2</td>\n",
       "      <td>1</td>\n",
       "    </tr>\n",
       "    <tr>\n",
       "      <th>2</th>\n",
       "      <td>F00000004</td>\n",
       "      <td>257</td>\n",
       "      <td>1</td>\n",
       "      <td>0</td>\n",
       "      <td>1</td>\n",
       "      <td>0</td>\n",
       "      <td>0.0</td>\n",
       "      <td>0</td>\n",
       "      <td>2</td>\n",
       "      <td>1</td>\n",
       "    </tr>\n",
       "    <tr>\n",
       "      <th>3</th>\n",
       "      <td>F00000005</td>\n",
       "      <td>257</td>\n",
       "      <td>1</td>\n",
       "      <td>1</td>\n",
       "      <td>1</td>\n",
       "      <td>0</td>\n",
       "      <td>0.0</td>\n",
       "      <td>0</td>\n",
       "      <td>2</td>\n",
       "      <td>1</td>\n",
       "    </tr>\n",
       "    <tr>\n",
       "      <th>4</th>\n",
       "      <td>F00000006</td>\n",
       "      <td>342</td>\n",
       "      <td>1</td>\n",
       "      <td>0</td>\n",
       "      <td>1</td>\n",
       "      <td>0</td>\n",
       "      <td>0.0</td>\n",
       "      <td>0</td>\n",
       "      <td>2</td>\n",
       "      <td>1</td>\n",
       "    </tr>\n",
       "  </tbody>\n",
       "</table>\n",
       "</div>"
      ],
      "text/plain": [
       "          ID  Estimated_Insects_Count  Crop_Type  Soil_Type  \\\n",
       "0  F00000001                      188          1          0   \n",
       "1  F00000003                      209          1          0   \n",
       "2  F00000004                      257          1          0   \n",
       "3  F00000005                      257          1          1   \n",
       "4  F00000006                      342          1          0   \n",
       "\n",
       "   Pesticide_Use_Category  Number_Doses_Week  Number_Weeks_Used  \\\n",
       "0                       1                  0                0.0   \n",
       "1                       1                  0                0.0   \n",
       "2                       1                  0                0.0   \n",
       "3                       1                  0                0.0   \n",
       "4                       1                  0                0.0   \n",
       "\n",
       "   Number_Weeks_Quit  Season  Crop_Damage  \n",
       "0                  0       1            0  \n",
       "1                  0       2            1  \n",
       "2                  0       2            1  \n",
       "3                  0       2            1  \n",
       "4                  0       2            1  "
      ]
     },
     "execution_count": 5,
     "metadata": {},
     "output_type": "execute_result"
    }
   ],
   "source": [
    "dt_tr.head()"
   ]
  },
  {
   "cell_type": "code",
   "execution_count": 6,
   "metadata": {},
   "outputs": [
    {
     "data": {
      "text/plain": [
       "(88858, 10)"
      ]
     },
     "execution_count": 6,
     "metadata": {},
     "output_type": "execute_result"
    }
   ],
   "source": [
    "dt_tr.shape"
   ]
  },
  {
   "cell_type": "code",
   "execution_count": 7,
   "metadata": {},
   "outputs": [
    {
     "data": {
      "text/plain": [
       "ID                          object\n",
       "Estimated_Insects_Count      int64\n",
       "Crop_Type                    int64\n",
       "Soil_Type                    int64\n",
       "Pesticide_Use_Category       int64\n",
       "Number_Doses_Week            int64\n",
       "Number_Weeks_Used          float64\n",
       "Number_Weeks_Quit            int64\n",
       "Season                       int64\n",
       "Crop_Damage                  int64\n",
       "dtype: object"
      ]
     },
     "execution_count": 7,
     "metadata": {},
     "output_type": "execute_result"
    }
   ],
   "source": [
    "dt_tr.dtypes"
   ]
  },
  {
   "cell_type": "markdown",
   "metadata": {},
   "source": [
    "### DATA PREPROCESSING"
   ]
  },
  {
   "cell_type": "code",
   "execution_count": 8,
   "metadata": {},
   "outputs": [],
   "source": [
    "dt_tr[\"Crop_Type\"]=dt_tr[\"Crop_Type\"].astype(str)\n",
    "dt_tr[\"Soil_Type\"]=dt_tr[\"Soil_Type\"].astype(str)\n",
    "dt_tr[\"Pesticide_Use_Category\"]=dt_tr[\"Pesticide_Use_Category\"].astype(str)\n",
    "dt_tr[\"Season\"]=dt_tr[\"Season\"].astype(str)\n"
   ]
  },
  {
   "cell_type": "code",
   "execution_count": 9,
   "metadata": {},
   "outputs": [],
   "source": [
    "dt_ts[\"Crop_Type\"]=dt_ts[\"Crop_Type\"].astype(str)\n",
    "dt_ts[\"Soil_Type\"]=dt_ts[\"Soil_Type\"].astype(str)\n",
    "dt_ts[\"Pesticide_Use_Category\"]=dt_ts[\"Pesticide_Use_Category\"].astype(str)\n",
    "dt_ts[\"Season\"]=dt_ts[\"Season\"].astype(str)"
   ]
  },
  {
   "cell_type": "markdown",
   "metadata": {},
   "source": [
    "####  Distribution Visualization"
   ]
  },
  {
   "cell_type": "code",
   "execution_count": 10,
   "metadata": {},
   "outputs": [
    {
     "data": {
      "text/plain": [
       "<matplotlib.axes._subplots.AxesSubplot at 0x2d84c1f3400>"
      ]
     },
     "execution_count": 10,
     "metadata": {},
     "output_type": "execute_result"
    },
    {
     "data": {
      "image/png": "[encoded data removed]",
      "text/plain": [
       "<Figure size 1440x576 with 4 Axes>"
      ]
     },
     "metadata": {
      "needs_background": "light"
     },
     "output_type": "display_data"
    }
   ],
   "source": [
    "# Continuous Variable\n",
    "\n",
    "fig, axes = plt.subplots(nrows=1, ncols=4, figsize = (20,8))\n",
    "dt_tr.Estimated_Insects_Count.plot(kind='hist',bins=20, ax=axes[0], title='Estimated_Insects_Count')\n",
    "dt_tr.Number_Doses_Week.plot(kind='hist',bins=20, ax=axes[1], title='Number_Doses_Week')\n",
    "dt_tr.Number_Weeks_Used.plot(kind='hist',bins=20, ax=axes[2], title='Number_Weeks_Used')\n",
    "dt_tr.Number_Weeks_Quit.plot(kind='hist',bins=20, ax=axes[3], title='Number_Weeks_Quit')"
   ]
  },
  {
   "cell_type": "code",
   "execution_count": 11,
   "metadata": {},
   "outputs": [
    {
     "data": {
      "text/plain": [
       "<matplotlib.axes._subplots.AxesSubplot at 0x2d84d8624e0>"
      ]
     },
     "execution_count": 11,
     "metadata": {},
     "output_type": "execute_result"
    },
    {
     "data": {
      "image/png": "[encoded data removed]",
      "text/plain": [
       "<Figure size 1440x576 with 4 Axes>"
      ]
     },
     "metadata": {
      "needs_background": "light"
     },
     "output_type": "display_data"
    }
   ],
   "source": [
    "# Discrete Variable\n",
    "\n",
    "fig, axes = plt.subplots(nrows=1, ncols=4, figsize = (20,8))\n",
    "dt_tr.Crop_Type.value_counts().plot(kind='bar', ax=axes[0], title='Crop_Type')\n",
    "dt_tr.Soil_Type.value_counts().plot(kind='bar', ax=axes[1], title='Soil_Type')\n",
    "dt_tr.Pesticide_Use_Category.value_counts().plot(kind='bar', ax=axes[2], title='Pesticide_Use_Category')\n",
    "dt_tr.Season.value_counts().plot(kind='bar', ax=axes[3], title='Season')"
   ]
  },
  {
   "cell_type": "markdown",
   "metadata": {},
   "source": [
    "### DETECTING OUTLIER Using IQR"
   ]
  },
  {
   "cell_type": "code",
   "execution_count": 12,
   "metadata": {},
   "outputs": [],
   "source": [
    "# Detecting outlier \n",
    "\n",
    "def outliers(x):\n",
    "    st=x.quantile(0.25)\n",
    "    rd=x.quantile(0.75)\n",
    "    IQR=rd-st\n",
    "    no_lesser=IQR-st              # no value should be less than this\n",
    "    no_greater=IQR+rd             # no value should be greater than this\n",
    "    return no_lesser, no_greater\n"
   ]
  },
  {
   "cell_type": "code",
   "execution_count": 13,
   "metadata": {},
   "outputs": [
    {
     "name": "stdout",
     "output_type": "stream",
     "text": [
      "(436.0, 3065.0)\n",
      "(10.0, 65.0)\n",
      "(-3.0, 54.0)\n",
      "(16.0, 32.0)\n"
     ]
    }
   ],
   "source": [
    "# TRAIN DATASET\n",
    "\n",
    "\n",
    "print(outliers(dt_tr[\"Estimated_Insects_Count\"]))\n",
    "print(outliers(dt_tr[\"Number_Doses_Week\"]))\n",
    "print(outliers(dt_tr[\"Number_Weeks_Used\"]))\n",
    "print(outliers(dt_tr[\"Number_Weeks_Quit\"]))"
   ]
  },
  {
   "cell_type": "code",
   "execution_count": 14,
   "metadata": {},
   "outputs": [],
   "source": [
    "dt_tr[\"Estimated_Insects_Count\"]=np.where(dt_tr[\"Estimated_Insects_Count\"]>3065,3065,dt_tr[\"Estimated_Insects_Count\"])\n",
    "dt_tr[\"Estimated_Insects_Count\"]=np.where(dt_tr[\"Estimated_Insects_Count\"]<436,436,dt_tr[\"Estimated_Insects_Count\"])\n",
    "\n",
    "dt_tr[\"Number_Doses_Week\"]=np.where(dt_tr[\"Number_Doses_Week\"]>65,65,dt_tr[\"Number_Doses_Week\"])\n",
    "dt_tr[\"Number_Doses_Week\"]=np.where(dt_tr[\"Number_Doses_Week\"]<10,10,dt_tr[\"Number_Doses_Week\"])\n",
    "\n",
    "dt_tr[\"Number_Weeks_Used\"]=np.where(dt_tr[\"Number_Weeks_Used\"]>54,54,dt_tr[\"Number_Weeks_Used\"])"
   ]
  },
  {
   "cell_type": "code",
   "execution_count": 15,
   "metadata": {},
   "outputs": [
    {
     "name": "stdout",
     "output_type": "stream",
     "text": [
      "(436.0, 3065.0)\n",
      "(10.0, 65.0)\n",
      "(-2.0, 56.0)\n",
      "(16.0, 32.0)\n"
     ]
    }
   ],
   "source": [
    "# TEST DATA SET\n",
    "\n",
    "\n",
    "print(outliers(dt_ts[\"Estimated_Insects_Count\"]))\n",
    "print(outliers(dt_ts[\"Number_Doses_Week\"]))\n",
    "print(outliers(dt_ts[\"Number_Weeks_Used\"]))\n",
    "print(outliers(dt_ts[\"Number_Weeks_Quit\"]))"
   ]
  },
  {
   "cell_type": "code",
   "execution_count": 16,
   "metadata": {},
   "outputs": [],
   "source": [
    "dt_ts[\"Estimated_Insects_Count\"]=np.where(dt_ts[\"Estimated_Insects_Count\"]>3065,3065,dt_ts[\"Estimated_Insects_Count\"])\n",
    "dt_ts[\"Estimated_Insects_Count\"]=np.where(dt_ts[\"Estimated_Insects_Count\"]<436,436,dt_ts[\"Estimated_Insects_Count\"])\n",
    "\n",
    "dt_ts[\"Number_Doses_Week\"]=np.where(dt_ts[\"Number_Doses_Week\"]>65,65,dt_ts[\"Number_Doses_Week\"])\n",
    "dt_ts[\"Number_Doses_Week\"]=np.where(dt_ts[\"Number_Doses_Week\"]<10,10,dt_ts[\"Number_Doses_Week\"])\n",
    "\n",
    "dt_ts[\"Number_Weeks_Used\"]=np.where(dt_ts[\"Number_Weeks_Used\"]>56,56,dt_ts[\"Number_Weeks_Used\"])"
   ]
  },
  {
   "cell_type": "markdown",
   "metadata": {},
   "source": [
    "### IMPUTING NULL VALUE"
   ]
  },
  {
   "cell_type": "code",
   "execution_count": 17,
   "metadata": {},
   "outputs": [
    {
     "data": {
      "text/plain": [
       "ID                            0\n",
       "Estimated_Insects_Count       0\n",
       "Crop_Type                     0\n",
       "Soil_Type                     0\n",
       "Pesticide_Use_Category        0\n",
       "Number_Doses_Week             0\n",
       "Number_Weeks_Used          9000\n",
       "Number_Weeks_Quit             0\n",
       "Season                        0\n",
       "Crop_Damage                   0\n",
       "dtype: int64"
      ]
     },
     "execution_count": 17,
     "metadata": {},
     "output_type": "execute_result"
    }
   ],
   "source": [
    "dt_tr.isnull().sum()"
   ]
  },
  {
   "cell_type": "code",
   "execution_count": 18,
   "metadata": {},
   "outputs": [],
   "source": [
    "dt_tr.loc[dt_tr['Number_Doses_Week'] == 0,'Number_Weeks_Used'] = dt_tr.loc[dt_tr['Number_Doses_Week'] == 0,'Number_Weeks_Used'].fillna(0)\n",
    "\n",
    "dt_ts.loc[dt_ts['Number_Doses_Week'] == 0,'Number_Weeks_Used'] = dt_ts.loc[dt_ts['Number_Doses_Week'] == 0,'Number_Weeks_Used'].fillna(0)\n"
   ]
  },
  {
   "cell_type": "code",
   "execution_count": 19,
   "metadata": {},
   "outputs": [],
   "source": [
    "dt_tr[\"Number_Weeks_Used\"].fillna(28,inplace=True)"
   ]
  },
  {
   "cell_type": "code",
   "execution_count": 20,
   "metadata": {},
   "outputs": [],
   "source": [
    "dt_ts[\"Number_Weeks_Used\"].fillna(28,inplace=True)"
   ]
  },
  {
   "cell_type": "code",
   "execution_count": 21,
   "metadata": {},
   "outputs": [],
   "source": [
    "ID=dt_ts.ID"
   ]
  },
  {
   "cell_type": "markdown",
   "metadata": {},
   "source": [
    "###  Feature engineering"
   ]
  },
  {
   "cell_type": "code",
   "execution_count": 22,
   "metadata": {},
   "outputs": [],
   "source": [
    "# train dataset\n",
    "\n",
    "dt_tr[\"total_duration\"]=dt_tr[\"Number_Weeks_Used\"]+dt_tr[\"Number_Weeks_Quit\"]\n",
    "dt_tr[\"week_used_ratio\"]=dt_tr[\"Number_Weeks_Used\"]/dt_tr[\"total_duration\"]\n",
    "dt_tr[\"week_quit_ratio\"]=dt_tr[\"Number_Weeks_Quit\"]/dt_tr[\"total_duration\"]\n",
    "dt_tr[\"week_used_ratio\"].fillna(0,inplace=True)\n",
    "dt_tr[\"week_quit_ratio\"].fillna(0,inplace=True)\n",
    "\n",
    "# test dataset\n",
    "dt_ts[\"total_duration\"]=dt_ts[\"Number_Weeks_Used\"]+dt_ts[\"Number_Weeks_Quit\"]\n",
    "dt_ts[\"week_used_ratio\"]=dt_ts[\"Number_Weeks_Used\"]/dt_ts[\"total_duration\"]\n",
    "dt_ts[\"week_quit_ratio\"]=dt_ts[\"Number_Weeks_Quit\"]/dt_ts[\"total_duration\"]\n",
    "dt_ts[\"week_used_ratio\"].fillna(0,inplace=True)\n",
    "dt_ts[\"week_quit_ratio\"].fillna(0,inplace=True)\n"
   ]
  },
  {
   "cell_type": "code",
   "execution_count": 23,
   "metadata": {},
   "outputs": [
    {
     "data": {
      "text/html": [
       "<div>\n",
       "<style scoped>\n",
       "    .dataframe tbody tr th:only-of-type {\n",
       "        vertical-align: middle;\n",
       "    }\n",
       "\n",
       "    .dataframe tbody tr th {\n",
       "        vertical-align: top;\n",
       "    }\n",
       "\n",
       "    .dataframe thead th {\n",
       "        text-align: right;\n",
       "    }\n",
       "</style>\n",
       "<table border=\"1\" class=\"dataframe\">\n",
       "  <thead>\n",
       "    <tr style=\"text-align: right;\">\n",
       "      <th></th>\n",
       "      <th>ID</th>\n",
       "      <th>Estimated_Insects_Count</th>\n",
       "      <th>Crop_Type</th>\n",
       "      <th>Soil_Type</th>\n",
       "      <th>Pesticide_Use_Category</th>\n",
       "      <th>Number_Doses_Week</th>\n",
       "      <th>Number_Weeks_Used</th>\n",
       "      <th>Number_Weeks_Quit</th>\n",
       "      <th>Season</th>\n",
       "      <th>Crop_Damage</th>\n",
       "      <th>total_duration</th>\n",
       "      <th>week_used_ratio</th>\n",
       "      <th>week_quit_ratio</th>\n",
       "    </tr>\n",
       "  </thead>\n",
       "  <tbody>\n",
       "    <tr>\n",
       "      <th>88853</th>\n",
       "      <td>F00155935</td>\n",
       "      <td>3065</td>\n",
       "      <td>1</td>\n",
       "      <td>0</td>\n",
       "      <td>2</td>\n",
       "      <td>10</td>\n",
       "      <td>12.0</td>\n",
       "      <td>44</td>\n",
       "      <td>3</td>\n",
       "      <td>0</td>\n",
       "      <td>56.0</td>\n",
       "      <td>0.214286</td>\n",
       "      <td>0.785714</td>\n",
       "    </tr>\n",
       "    <tr>\n",
       "      <th>88854</th>\n",
       "      <td>F00155938</td>\n",
       "      <td>3065</td>\n",
       "      <td>1</td>\n",
       "      <td>0</td>\n",
       "      <td>2</td>\n",
       "      <td>10</td>\n",
       "      <td>20.0</td>\n",
       "      <td>38</td>\n",
       "      <td>1</td>\n",
       "      <td>0</td>\n",
       "      <td>58.0</td>\n",
       "      <td>0.344828</td>\n",
       "      <td>0.655172</td>\n",
       "    </tr>\n",
       "    <tr>\n",
       "      <th>88855</th>\n",
       "      <td>F00155939</td>\n",
       "      <td>3065</td>\n",
       "      <td>1</td>\n",
       "      <td>0</td>\n",
       "      <td>2</td>\n",
       "      <td>15</td>\n",
       "      <td>40.0</td>\n",
       "      <td>8</td>\n",
       "      <td>2</td>\n",
       "      <td>0</td>\n",
       "      <td>48.0</td>\n",
       "      <td>0.833333</td>\n",
       "      <td>0.166667</td>\n",
       "    </tr>\n",
       "    <tr>\n",
       "      <th>88856</th>\n",
       "      <td>F00155942</td>\n",
       "      <td>3065</td>\n",
       "      <td>1</td>\n",
       "      <td>0</td>\n",
       "      <td>2</td>\n",
       "      <td>10</td>\n",
       "      <td>25.0</td>\n",
       "      <td>18</td>\n",
       "      <td>3</td>\n",
       "      <td>0</td>\n",
       "      <td>43.0</td>\n",
       "      <td>0.581395</td>\n",
       "      <td>0.418605</td>\n",
       "    </tr>\n",
       "    <tr>\n",
       "      <th>88857</th>\n",
       "      <td>F00155945</td>\n",
       "      <td>3065</td>\n",
       "      <td>1</td>\n",
       "      <td>0</td>\n",
       "      <td>2</td>\n",
       "      <td>20</td>\n",
       "      <td>37.0</td>\n",
       "      <td>7</td>\n",
       "      <td>3</td>\n",
       "      <td>0</td>\n",
       "      <td>44.0</td>\n",
       "      <td>0.840909</td>\n",
       "      <td>0.159091</td>\n",
       "    </tr>\n",
       "  </tbody>\n",
       "</table>\n",
       "</div>"
      ],
      "text/plain": [
       "              ID  Estimated_Insects_Count Crop_Type Soil_Type  \\\n",
       "88853  F00155935                     3065         1         0   \n",
       "88854  F00155938                     3065         1         0   \n",
       "88855  F00155939                     3065         1         0   \n",
       "88856  F00155942                     3065         1         0   \n",
       "88857  F00155945                     3065         1         0   \n",
       "\n",
       "      Pesticide_Use_Category  Number_Doses_Week  Number_Weeks_Used  \\\n",
       "88853                      2                 10               12.0   \n",
       "88854                      2                 10               20.0   \n",
       "88855                      2                 15               40.0   \n",
       "88856                      2                 10               25.0   \n",
       "88857                      2                 20               37.0   \n",
       "\n",
       "       Number_Weeks_Quit Season  Crop_Damage  total_duration  week_used_ratio  \\\n",
       "88853                 44      3            0            56.0         0.214286   \n",
       "88854                 38      1            0            58.0         0.344828   \n",
       "88855                  8      2            0            48.0         0.833333   \n",
       "88856                 18      3            0            43.0         0.581395   \n",
       "88857                  7      3            0            44.0         0.840909   \n",
       "\n",
       "       week_quit_ratio  \n",
       "88853         0.785714  \n",
       "88854         0.655172  \n",
       "88855         0.166667  \n",
       "88856         0.418605  \n",
       "88857         0.159091  "
      ]
     },
     "execution_count": 23,
     "metadata": {},
     "output_type": "execute_result"
    }
   ],
   "source": [
    "dt_tr.tail()"
   ]
  },
  {
   "cell_type": "code",
   "execution_count": 24,
   "metadata": {},
   "outputs": [],
   "source": [
    "dt_train=dt_tr.drop([\"ID\",\"total_duration\",\"week_used_ratio\",\"week_quit_ratio\"],axis=1)\n",
    "\n",
    "dt_test=dt_ts.drop([\"ID\",\"total_duration\",\"week_used_ratio\",\"week_quit_ratio\"],axis=1)"
   ]
  },
  {
   "cell_type": "code",
   "execution_count": 30,
   "metadata": {},
   "outputs": [],
   "source": [
    "X_train=dt_train.drop([\"Crop_Damage\"],axis=1)\n",
    "y_train=dt_train[\"Crop_Damage\"]\n",
    "\n",
    "X_test=dt_test.copy()"
   ]
  },
  {
   "cell_type": "code",
   "execution_count": 31,
   "metadata": {},
   "outputs": [],
   "source": [
    "X_train=pd.get_dummies(X_train, drop_first=True)\n",
    "\n",
    "X_test=pd.get_dummies(X_test, drop_first=True)"
   ]
  },
  {
   "cell_type": "code",
   "execution_count": 32,
   "metadata": {},
   "outputs": [
    {
     "name": "stdout",
     "output_type": "stream",
     "text": [
      "(88858, 10) (88858,) (59310, 10)\n"
     ]
    }
   ],
   "source": [
    "print(X_train.shape, y_train.shape, X_test.shape)"
   ]
  },
  {
   "cell_type": "markdown",
   "metadata": {},
   "source": [
    "#### Resolving Imbalanced dataset using SMOTE"
   ]
  },
  {
   "cell_type": "code",
   "execution_count": 33,
   "metadata": {},
   "outputs": [
    {
     "name": "stdout",
     "output_type": "stream",
     "text": [
      "Requirement already satisfied: imblearn in c:\\users\\soma\\anaconda3\\lib\\site-packages (0.0)\n",
      "Requirement already satisfied: imbalanced-learn in c:\\users\\soma\\anaconda3\\lib\\site-packages (from imblearn) (0.7.0)\n",
      "Requirement already satisfied: numpy>=1.13.3 in c:\\users\\soma\\anaconda3\\lib\\site-packages (from imbalanced-learn->imblearn) (1.16.4)\n",
      "Requirement already satisfied: scikit-learn>=0.23 in c:\\users\\soma\\anaconda3\\lib\\site-packages (from imbalanced-learn->imblearn) (0.23.1)\n",
      "Requirement already satisfied: joblib>=0.11 in c:\\users\\soma\\anaconda3\\lib\\site-packages (from imbalanced-learn->imblearn) (0.13.2)\n",
      "Requirement already satisfied: scipy>=0.19.1 in c:\\users\\soma\\anaconda3\\lib\\site-packages (from imbalanced-learn->imblearn) (1.2.1)\n",
      "Requirement already satisfied: threadpoolctl>=2.0.0 in c:\\users\\soma\\anaconda3\\lib\\site-packages (from scikit-learn>=0.23->imbalanced-learn->imblearn) (2.1.0)\n"
     ]
    }
   ],
   "source": [
    "!pip install imblearn"
   ]
  },
  {
   "cell_type": "code",
   "execution_count": 34,
   "metadata": {},
   "outputs": [],
   "source": [
    "import imblearn\n",
    "from imblearn.over_sampling import SMOTE \n",
    "sm = SMOTE(random_state = 2) \n",
    "X_train_res, y_train_res = sm.fit_sample(X_train, y_train)"
   ]
  },
  {
   "cell_type": "code",
   "execution_count": 35,
   "metadata": {},
   "outputs": [
    {
     "data": {
      "text/plain": [
       "array([74238, 74238, 74238], dtype=int64)"
      ]
     },
     "execution_count": 35,
     "metadata": {},
     "output_type": "execute_result"
    }
   ],
   "source": [
    "np.bincount(y_train_res)"
   ]
  },
  {
   "cell_type": "code",
   "execution_count": 36,
   "metadata": {},
   "outputs": [
    {
     "data": {
      "text/plain": [
       "Estimated_Insects_Count       int64\n",
       "Number_Doses_Week             int64\n",
       "Number_Weeks_Used           float64\n",
       "Number_Weeks_Quit             int64\n",
       "Crop_Type_1                   uint8\n",
       "Soil_Type_1                   uint8\n",
       "Pesticide_Use_Category_2      uint8\n",
       "Pesticide_Use_Category_3      uint8\n",
       "Season_2                      uint8\n",
       "Season_3                      uint8\n",
       "dtype: object"
      ]
     },
     "execution_count": 36,
     "metadata": {},
     "output_type": "execute_result"
    }
   ],
   "source": [
    "X_train.dtypes"
   ]
  },
  {
   "cell_type": "markdown",
   "metadata": {},
   "source": [
    "### MODEL BUILDING\n",
    "\n",
    "Light GBM Algorithm"
   ]
  },
  {
   "cell_type": "code",
   "execution_count": 37,
   "metadata": {},
   "outputs": [],
   "source": [
    "from sklearn.model_selection import train_test_split,RandomizedSearchCV,KFold,StratifiedKFold\n",
    "import lightgbm as lgb\n",
    "import xgboost as xgb"
   ]
  },
  {
   "cell_type": "code",
   "execution_count": 38,
   "metadata": {},
   "outputs": [
    {
     "name": "stderr",
     "output_type": "stream",
     "text": [
      "C:\\Users\\Soma\\Anaconda3\\lib\\site-packages\\sklearn\\model_selection\\_split.py:297: FutureWarning: Setting a random_state has no effect since shuffle is False. This will raise an error in 0.24. You should leave random_state to its default (None), or set shuffle=True.\n",
      "  FutureWarning\n"
     ]
    }
   ],
   "source": [
    "sk = StratifiedKFold(n_splits=5,shuffle=False,random_state=42)"
   ]
  },
  {
   "cell_type": "code",
   "execution_count": 39,
   "metadata": {},
   "outputs": [],
   "source": [
    "mod = lgb.LGBMClassifier(boosting_type='gbdt',objective='multiclass',num_class=3,random_state=42,n_jobs=-1,verbose=1)"
   ]
  },
  {
   "cell_type": "code",
   "execution_count": 40,
   "metadata": {},
   "outputs": [],
   "source": [
    "prms   = {\"max_depth\":[4,6,8,10],\n",
    "          \"learning_rate\":[0.1,0.01,0.03,0.07,0.001],\n",
    "          \"subsample\":[0.5,0.7,0.9],\n",
    "          \"colsample_bytree\":[0.5,0.7,0.9],\n",
    "          \"reg_alpha\":[0,0.25,0.5,1],\n",
    "          \"reg_lambda\":[0,0.25,0.5,1],\n",
    "          \"num_leaves\":[15,63,127],\n",
    "          \"min_data_in_leaf\":[1,7,10,25,50,100],\n",
    "          \"n_estimators\":list(range(450,670,20))}"
   ]
  },
  {
   "cell_type": "code",
   "execution_count": 41,
   "metadata": {},
   "outputs": [
    {
     "data": {
      "text/plain": [
       "RandomizedSearchCV(cv=<generator object _BaseKFold.split at 0x000002D85070CDE0>,\n",
       "                   estimator=LGBMClassifier(num_class=3, objective='multiclass',\n",
       "                                            random_state=42, verbose=1),\n",
       "                   param_distributions={'colsample_bytree': [0.5, 0.7, 0.9],\n",
       "                                        'learning_rate': [0.1, 0.01, 0.03, 0.07,\n",
       "                                                          0.001],\n",
       "                                        'max_depth': [4, 6, 8, 10],\n",
       "                                        'min_data_in_leaf': [1, 7, 10, 25, 50,\n",
       "                                                             100],\n",
       "                                        'n_estimators': [450, 470, 490, 510,\n",
       "                                                         530, 550, 570, 590,\n",
       "                                                         610, 630, 650],\n",
       "                                        'num_leaves': [15, 63, 127],\n",
       "                                        'reg_alpha': [0, 0.25, 0.5, 1],\n",
       "                                        'reg_lambda': [0, 0.25, 0.5, 1],\n",
       "                                        'subsample': [0.5, 0.7, 0.9]},\n",
       "                   scoring='accuracy')"
      ]
     },
     "execution_count": 41,
     "metadata": {},
     "output_type": "execute_result"
    }
   ],
   "source": [
    "lgbm_model = RandomizedSearchCV(estimator=mod,param_distributions=prms,cv=sk.split(X_train,y_train),scoring='accuracy')\n",
    "lgbm_model.fit(X_train,y_train)"
   ]
  },
  {
   "cell_type": "code",
   "execution_count": 42,
   "metadata": {},
   "outputs": [
    {
     "data": {
      "text/plain": [
       "(LGBMClassifier(colsample_bytree=0.9, max_depth=4, min_data_in_leaf=7,\n",
       "                n_estimators=610, num_class=3, num_leaves=127,\n",
       "                objective='multiclass', random_state=42, reg_alpha=0.25,\n",
       "                reg_lambda=0, subsample=0.5, verbose=1),\n",
       " {'subsample': 0.5,\n",
       "  'reg_lambda': 0,\n",
       "  'reg_alpha': 0.25,\n",
       "  'num_leaves': 127,\n",
       "  'n_estimators': 610,\n",
       "  'min_data_in_leaf': 7,\n",
       "  'max_depth': 4,\n",
       "  'learning_rate': 0.1,\n",
       "  'colsample_bytree': 0.9},\n",
       " 0.8474644732781078)"
      ]
     },
     "execution_count": 42,
     "metadata": {},
     "output_type": "execute_result"
    }
   ],
   "source": [
    "lgbm_model.best_estimator_,lgbm_model.best_params_,lgbm_model.best_score_"
   ]
  },
  {
   "cell_type": "markdown",
   "metadata": {},
   "source": [
    "### Predicting the test Data set"
   ]
  },
  {
   "cell_type": "code",
   "execution_count": 43,
   "metadata": {},
   "outputs": [],
   "source": [
    "pred1=lgbm_model.best_estimator_.predict(X_test)"
   ]
  },
  {
   "cell_type": "code",
   "execution_count": 44,
   "metadata": {},
   "outputs": [],
   "source": [
    "sub1=pd.DataFrame({\"ID\":ID,\"Crop_Damage\":pred1})"
   ]
  },
  {
   "cell_type": "code",
   "execution_count": 45,
   "metadata": {},
   "outputs": [
    {
     "data": {
      "text/plain": [
       "(59310, 2)"
      ]
     },
     "execution_count": 45,
     "metadata": {},
     "output_type": "execute_result"
    }
   ],
   "source": [
    "sub1.shape"
   ]
  },
  {
   "cell_type": "code",
   "execution_count": 46,
   "metadata": {},
   "outputs": [],
   "source": [
    "sub1.to_csv(\"submission11.csv\",index=False)"
   ]
  },
  {
   "cell_type": "code",
   "execution_count": null,
   "metadata": {},
   "outputs": [],
   "source": [
    "##########################"
   ]
  },
  {
   "cell_type": "markdown",
   "metadata": {},
   "source": [
    "Accuracy : 84.83% on Test data \n"
   ]
  },
  {
   "cell_type": "code",
   "execution_count": null,
   "metadata": {},
   "outputs": [],
   "source": []
  },
  {
   "cell_type": "code",
   "execution_count": null,
   "metadata": {},
   "outputs": [],
   "source": []
  },
  {
   "cell_type": "code",
   "execution_count": null,
   "metadata": {},
   "outputs": [],
   "source": []
  }
 ],
 "metadata": {
  "kernelspec": {
   "display_name": "Python 3",
   "language": "python",
   "name": "python3"
  },
  "language_info": {
   "codemirror_mode": {
    "name": "ipython",
    "version": 3
   },
   "file_extension": ".py",
   "mimetype": "text/x-python",
   "name": "python",
   "nbconvert_exporter": "python",
   "pygments_lexer": "ipython3",
   "version": "3.7.3"
  }
 },
 "nbformat": 4,
 "nbformat_minor": 4
}
